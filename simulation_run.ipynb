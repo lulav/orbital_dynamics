{
 "cells": [
  {
   "cell_type": "code",
   "execution_count": 4,
   "metadata": {},
   "outputs": [
    {
     "name": "stdout",
     "output_type": "stream",
     "text": [
      "The autoreload extension is already loaded. To reload it, use:\n",
      "  %reload_ext autoreload\n"
     ]
    }
   ],
   "source": [
    "from bson.int64 import Int64\n",
    "# from pprint import pprint\n",
    "import numpy as np\n",
    "# from collections import namedtuple\n",
    "from pyquaternion import Quaternion\n",
    "# import copy\n",
    "from LULAV_math_functions import LulavMethFunctions \n",
    "# import pandas as pd\n",
    "import matplotlib.pyplot as plt\n",
    "from mpl_toolkits.mplot3d import Axes3D\n",
    "from kepler_functions import KeplerFunctions\n",
    "# import pygame\n",
    "\n",
    "\n",
    "%load_ext autoreload\n",
    "%autoreload 2\n",
    "%matplotlib inline\n",
    "# %matplotlib notebook\n",
    "%matplotlib widget\n",
    "%config InlineBackend.figure_format = 'retina'\n",
    "\n"
   ]
  },
  {
   "cell_type": "code",
   "execution_count": 11,
   "metadata": {},
   "outputs": [
    {
     "name": "stdout",
     "output_type": "stream",
     "text": [
      "[-21456.35102812  -6234.81097969    210.02209071]\n",
      "[ 0.03197627 -2.67260028 -1.39999967]\n",
      "6378\n"
     ]
    }
   ],
   "source": [
    "kf = KeplerFunctions()\n",
    "kep_1 = kf.kepler_params_init(0.5, 29000, np.pi/2, None, 0.3, 1, 0.2)\n",
    "kep_2 = kf.kepler_params_init(0.53, 15000, (7/8)*np.pi, None, 0.3, 0.5, 0.2)\n",
    "\n",
    "dtheta = np.pi/1000\n",
    "theta = np.arange(0,  2*np.pi, dtheta )\n",
    "\n",
    "[elips,E_1] = kf.get_orbit_in_peri(kep_1)\n",
    "[elips,E_2] = kf.get_orbit_in_peri(kep_2)\n",
    "\n",
    "r = kf.celestial_orbit_position_in_ECI(kep_2)\n",
    "print(r)\n",
    "v = kf.celestial_velocity_in_ECI(kep_2, kf.Earth['mu'])\n",
    "print(v)\n",
    "\n",
    "kep = kf.kep_params_from_pos_and_vel(r,v, kf.Earth['mu'])\n",
    "print(kf.Earth['r'])"
   ]
  },
  {
   "cell_type": "code",
   "execution_count": 6,
   "metadata": {},
   "outputs": [
    {
     "data": {
      "text/plain": [
       "(0.9101108589812078, array([0.51527673, 0.76572483, 0.37121367]))"
      ]
     },
     "execution_count": 6,
     "metadata": {},
     "output_type": "execute_result"
    }
   ],
   "source": [
    "\n",
    "lmf = LulavMethFunctions()\n",
    "q = [0,54,87,35]\n",
    "p = [534,0,54,35]\n",
    "lmf.quat_error(q,p)"
   ]
  },
  {
   "cell_type": "code",
   "execution_count": null,
   "metadata": {},
   "outputs": [],
   "source": [
    "\n",
    "# orbit_arr = [kep_target]\n",
    "orbit_arr = [kep_1, kep_2]\n",
    "R_earth = 6378\n",
    "draw_orbit(orbit_arr, R_earth)\n"
   ]
  },
  {
   "cell_type": "code",
   "execution_count": null,
   "metadata": {},
   "outputs": [],
   "source": [
    "import matplotlib.pyplot as plt\n",
    "import numpy as np\n",
    "from matplotlib.animation import FuncAnimation\n",
    "\n",
    "elips,E = get_orbit_in_ECI(kep_1)\n",
    "# Create a figure and axis object\n",
    "\n",
    "fig = plt.figure()\n",
    "ax = fig.add_subplot(111, projection='3d')\n",
    "# Set the x data\n",
    "x = elips[:,0]\n",
    "y = elips[:,1]\n",
    "z = elips[:,2]\n",
    "\n",
    "plt.plot(x,y,z)\n",
    "\n",
    "\n",
    "planet_radius = 6378\n",
    "\n",
    "u, v = np.mgrid[0:2*np.pi:80j, 0:np.pi:40j]\n",
    "x_planet = planet_radius*np.cos(u)*np.sin(v)\n",
    "y_planet = planet_radius*np.sin(u)*np.sin(v)\n",
    "z_planet = planet_radius*np.cos(v)\n",
    "\n",
    "# Plot the sphere\n",
    "ax.plot_surface(x_planet, y_planet, z_planet, cmap='viridis')\n",
    "\n",
    "# Create a scatter plot with a single point\n",
    "point, = ax.plot([], [], marker='^', color='black', markersize=10)\n",
    "\n",
    "# Define the update function\n",
    "def update(frame):\n",
    "    # Update the x,y and z data of the point object\n",
    "    point.set_data(np.array([x[frame]]), np.array([y[frame]]))\n",
    "    point.set_3d_properties(np.array([z[frame]]))\n",
    "    \n",
    "    return point,\n",
    "\n",
    "# Create the animation object\n",
    "ani = FuncAnimation(fig, update, frames=len(x), interval=5, blit=True)\n",
    "\n",
    "# Set the x and y limits\n",
    "# ax.set_xlim(-min(x)-500, max(x)+500)\n",
    "# ax.set_ylim(-kep_1['a'], kep_1['a'])\n",
    "\n",
    "# Display the animation\n",
    "plt.show()"
   ]
  }
 ],
 "metadata": {
  "kernelspec": {
   "display_name": "Python 3",
   "language": "python",
   "name": "python3"
  },
  "language_info": {
   "codemirror_mode": {
    "name": "ipython",
    "version": 3
   },
   "file_extension": ".py",
   "mimetype": "text/x-python",
   "name": "python",
   "nbconvert_exporter": "python",
   "pygments_lexer": "ipython3",
   "version": "3.8.10"
  },
  "orig_nbformat": 4,
  "vscode": {
   "interpreter": {
    "hash": "31f2aee4e71d21fbe5cf8b01ff0e069b9275f58929596ceb00d14d90e3e16cd6"
   }
  }
 },
 "nbformat": 4,
 "nbformat_minor": 2
}
